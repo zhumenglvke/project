{
  "cells": [
    {
      "cell_type": "code",
      "execution_count": null,
      "id": "429d2bb9-bfd2-479b-8396-cc175e87ed45",
      "metadata": {
        "id": "429d2bb9-bfd2-479b-8396-cc175e87ed45",
        "outputId": "68390db6-3cef-450c-f6a6-6988467cc961"
      },
      "outputs": [
        {
          "name": "stdout",
          "output_type": "stream",
          "text": [
            "hello world\n"
          ]
        }
      ],
      "source": [
        "print('hello world')"
      ]
    },
    {
      "cell_type": "code",
      "execution_count": null,
      "id": "412ed6e7-10d7-46f7-ad56-2d6e993aaf01",
      "metadata": {
        "id": "412ed6e7-10d7-46f7-ad56-2d6e993aaf01"
      },
      "outputs": [],
      "source": [
        "import time\n",
        "time.sleep(3)"
      ]
    },
    {
      "cell_type": "code",
      "execution_count": null,
      "id": "2f76a9cc-52aa-42ec-a662-a1f21b3fd026",
      "metadata": {
        "id": "2f76a9cc-52aa-42ec-a662-a1f21b3fd026",
        "outputId": "b6628e47-3d5c-412e-f7ec-12474693674a"
      },
      "outputs": [
        {
          "data": {
            "text/plain": [
              "'hello,Tim!'"
            ]
          },
          "execution_count": 3,
          "metadata": {},
          "output_type": "execute_result"
        }
      ],
      "source": [
        "def say_hello(recipient):\n",
        "    return 'hello,{}!'.format(recipient)\n",
        "say_hello('Tim')"
      ]
    },
    {
      "cell_type": "markdown",
      "id": "fc5c8e09-7665-4ac9-a3c5-e34dd5460940",
      "metadata": {
        "id": "fc5c8e09-7665-4ac9-a3c5-e34dd5460940"
      },
      "source": [
        "**bold**"
      ]
    },
    {
      "cell_type": "markdown",
      "id": "b37428f3-6ba3-4702-bb95-dbcb23809747",
      "metadata": {
        "id": "b37428f3-6ba3-4702-bb95-dbcb23809747"
      },
      "source": [
        "*bold*"
      ]
    },
    {
      "cell_type": "markdown",
      "id": "d31c537f-82b7-4a7b-9940-47c9f171fa54",
      "metadata": {
        "id": "d31c537f-82b7-4a7b-9940-47c9f171fa54"
      },
      "source": [
        "![Alt text](https://www.dataquest.io/wp-content/uploads/2023/02/DQ-Logo.svg)"
      ]
    },
    {
      "cell_type": "code",
      "source": [
        "print('hello')"
      ],
      "metadata": {
        "id": "J-cQu9YYL5P2",
        "outputId": "bc38d44e-8b5b-4608-a033-64339c3dcbb7",
        "colab": {
          "base_uri": "https://localhost:8080/"
        }
      },
      "id": "J-cQu9YYL5P2",
      "execution_count": 1,
      "outputs": [
        {
          "output_type": "stream",
          "name": "stdout",
          "text": [
            "hello\n"
          ]
        }
      ]
    },
    {
      "cell_type": "markdown",
      "source": [
        "# project"
      ],
      "metadata": {
        "id": "gqqsaY8GL8Da"
      },
      "id": "gqqsaY8GL8Da"
    },
    {
      "cell_type": "code",
      "source": [
        "%matplotlib inline\n",
        "\n",
        "import pandas as pd\n",
        "import matplotlib.pyplot as plt\n",
        "import seaborn as sns\n",
        "\n",
        "sns.set(style='darkgrid')"
      ],
      "metadata": {
        "id": "BLvVMjbuPUDy"
      },
      "id": "BLvVMjbuPUDy",
      "execution_count": 4,
      "outputs": []
    },
    {
      "cell_type": "code",
      "source": [
        "df = pd.read_csv('/fortune500.csv')"
      ],
      "metadata": {
        "id": "dgtAe_8KQ7Xt"
      },
      "id": "dgtAe_8KQ7Xt",
      "execution_count": 7,
      "outputs": []
    },
    {
      "cell_type": "code",
      "source": [],
      "metadata": {
        "id": "yXFevnQTRIe2"
      },
      "id": "yXFevnQTRIe2",
      "execution_count": null,
      "outputs": []
    }
  ],
  "metadata": {
    "kernelspec": {
      "display_name": "Python 3 (ipykernel)",
      "language": "python",
      "name": "python3"
    },
    "language_info": {
      "codemirror_mode": {
        "name": "ipython",
        "version": 3
      },
      "file_extension": ".py",
      "mimetype": "text/x-python",
      "name": "python",
      "nbconvert_exporter": "python",
      "pygments_lexer": "ipython3",
      "version": "3.13.5"
    },
    "colab": {
      "provenance": []
    }
  },
  "nbformat": 4,
  "nbformat_minor": 5
}