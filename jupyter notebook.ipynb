{
 "cells": [
  {
   "cell_type": "code",
   "execution_count": 1,
   "id": "429d2bb9-bfd2-479b-8396-cc175e87ed45",
   "metadata": {},
   "outputs": [
    {
     "name": "stdout",
     "output_type": "stream",
     "text": [
      "hello world\n"
     ]
    }
   ],
   "source": [
    "print('hello world')"
   ]
  },
  {
   "cell_type": "code",
   "execution_count": 2,
   "id": "412ed6e7-10d7-46f7-ad56-2d6e993aaf01",
   "metadata": {},
   "outputs": [],
   "source": [
    "import time\n",
    "time.sleep(3)"
   ]
  },
  {
   "cell_type": "code",
   "execution_count": 3,
   "id": "2f76a9cc-52aa-42ec-a662-a1f21b3fd026",
   "metadata": {},
   "outputs": [
    {
     "data": {
      "text/plain": [
       "'hello,Tim!'"
      ]
     },
     "execution_count": 3,
     "metadata": {},
     "output_type": "execute_result"
    }
   ],
   "source": [
    "def say_hello(recipient):\n",
    "    return 'hello,{}!'.format(recipient)\n",
    "say_hello('Tim')"
   ]
  },
  {
   "cell_type": "markdown",
   "id": "fc5c8e09-7665-4ac9-a3c5-e34dd5460940",
   "metadata": {},
   "source": [
    "**bold**"
   ]
  },
  {
   "cell_type": "markdown",
   "id": "b37428f3-6ba3-4702-bb95-dbcb23809747",
   "metadata": {},
   "source": [
    "*bold*"
   ]
  },
  {
   "cell_type": "markdown",
   "id": "d31c537f-82b7-4a7b-9940-47c9f171fa54",
   "metadata": {},
   "source": [
    "![Alt text](https://www.dataquest.io/wp-content/uploads/2023/02/DQ-Logo.svg)"
   ]
  },
  {
   "cell_type": "code",
   "execution_count": null,
   "id": "31cc6f0b-9300-4dd0-a90b-83e429378442",
   "metadata": {},
   "outputs": [],
   "source": []
  }
 ],
 "metadata": {
  "kernelspec": {
   "display_name": "Python 3 (ipykernel)",
   "language": "python",
   "name": "python3"
  },
  "language_info": {
   "codemirror_mode": {
    "name": "ipython",
    "version": 3
   },
   "file_extension": ".py",
   "mimetype": "text/x-python",
   "name": "python",
   "nbconvert_exporter": "python",
   "pygments_lexer": "ipython3",
   "version": "3.13.5"
  }
 },
 "nbformat": 4,
 "nbformat_minor": 5
}
